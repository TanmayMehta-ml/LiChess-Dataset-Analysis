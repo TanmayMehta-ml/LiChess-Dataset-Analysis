{
 "cells": [
  {
   "cell_type": "markdown",
   "id": "eb0eaf2f-9a1a-451d-90d8-31ad9a87dd39",
   "metadata": {},
   "source": [
    "# LiChess Data Analysis"
   ]
  },
  {
   "cell_type": "markdown",
   "id": "a08fddce-f630-4269-bcd0-04cfc9fadc67",
   "metadata": {},
   "source": [
    "# Section-1: Data Preparation and Cleaning"
   ]
  },
  {
   "cell_type": "markdown",
   "id": "cb939183-1ed6-4ed3-bff1-632826f38ccd",
   "metadata": {},
   "source": [
    "### Importing Libraries"
   ]
  },
  {
   "cell_type": "code",
   "execution_count": 1,
   "id": "9f214451-63ab-40cb-be53-25f075e2323a",
   "metadata": {},
   "outputs": [],
   "source": [
    "import pandas as pd\n",
    "import numpy as np\n",
    "import seaborn as sns\n",
    "import matplotlib.pyplot as plt"
   ]
  },
  {
   "cell_type": "code",
   "execution_count": 2,
   "id": "e2aec015-f202-4bd1-af6b-c24522eb6193",
   "metadata": {},
   "outputs": [
    {
     "data": {
      "text/html": [
       "<div>\n",
       "<style scoped>\n",
       "    .dataframe tbody tr th:only-of-type {\n",
       "        vertical-align: middle;\n",
       "    }\n",
       "\n",
       "    .dataframe tbody tr th {\n",
       "        vertical-align: top;\n",
       "    }\n",
       "\n",
       "    .dataframe thead th {\n",
       "        text-align: right;\n",
       "    }\n",
       "</style>\n",
       "<table border=\"1\" class=\"dataframe\">\n",
       "  <thead>\n",
       "    <tr style=\"text-align: right;\">\n",
       "      <th></th>\n",
       "      <th>id</th>\n",
       "      <th>rated</th>\n",
       "      <th>created_at</th>\n",
       "      <th>last_move_at</th>\n",
       "      <th>turns</th>\n",
       "      <th>victory_status</th>\n",
       "      <th>winner</th>\n",
       "      <th>increment_code</th>\n",
       "      <th>white_id</th>\n",
       "      <th>white_rating</th>\n",
       "      <th>black_id</th>\n",
       "      <th>black_rating</th>\n",
       "      <th>moves</th>\n",
       "      <th>opening_eco</th>\n",
       "      <th>opening_name</th>\n",
       "      <th>opening_ply</th>\n",
       "    </tr>\n",
       "  </thead>\n",
       "  <tbody>\n",
       "    <tr>\n",
       "      <th>0</th>\n",
       "      <td>TZJHLljE</td>\n",
       "      <td>False</td>\n",
       "      <td>1.504210e+12</td>\n",
       "      <td>1.504210e+12</td>\n",
       "      <td>13</td>\n",
       "      <td>outoftime</td>\n",
       "      <td>white</td>\n",
       "      <td>15+2</td>\n",
       "      <td>bourgris</td>\n",
       "      <td>1500</td>\n",
       "      <td>a-00</td>\n",
       "      <td>1191</td>\n",
       "      <td>d4 d5 c4 c6 cxd5 e6 dxe6 fxe6 Nf3 Bb4+ Nc3 Ba5...</td>\n",
       "      <td>D10</td>\n",
       "      <td>Slav Defense: Exchange Variation</td>\n",
       "      <td>5</td>\n",
       "    </tr>\n",
       "    <tr>\n",
       "      <th>1</th>\n",
       "      <td>l1NXvwaE</td>\n",
       "      <td>True</td>\n",
       "      <td>1.504130e+12</td>\n",
       "      <td>1.504130e+12</td>\n",
       "      <td>16</td>\n",
       "      <td>resign</td>\n",
       "      <td>black</td>\n",
       "      <td>5+10</td>\n",
       "      <td>a-00</td>\n",
       "      <td>1322</td>\n",
       "      <td>skinnerua</td>\n",
       "      <td>1261</td>\n",
       "      <td>d4 Nc6 e4 e5 f4 f6 dxe5 fxe5 fxe5 Nxe5 Qd4 Nc6...</td>\n",
       "      <td>B00</td>\n",
       "      <td>Nimzowitsch Defense: Kennedy Variation</td>\n",
       "      <td>4</td>\n",
       "    </tr>\n",
       "    <tr>\n",
       "      <th>2</th>\n",
       "      <td>mIICvQHh</td>\n",
       "      <td>True</td>\n",
       "      <td>1.504130e+12</td>\n",
       "      <td>1.504130e+12</td>\n",
       "      <td>61</td>\n",
       "      <td>mate</td>\n",
       "      <td>white</td>\n",
       "      <td>5+10</td>\n",
       "      <td>ischia</td>\n",
       "      <td>1496</td>\n",
       "      <td>a-00</td>\n",
       "      <td>1500</td>\n",
       "      <td>e4 e5 d3 d6 Be3 c6 Be2 b5 Nd2 a5 a4 c5 axb5 Nc...</td>\n",
       "      <td>C20</td>\n",
       "      <td>King's Pawn Game: Leonardis Variation</td>\n",
       "      <td>3</td>\n",
       "    </tr>\n",
       "    <tr>\n",
       "      <th>3</th>\n",
       "      <td>kWKvrqYL</td>\n",
       "      <td>True</td>\n",
       "      <td>1.504110e+12</td>\n",
       "      <td>1.504110e+12</td>\n",
       "      <td>61</td>\n",
       "      <td>mate</td>\n",
       "      <td>white</td>\n",
       "      <td>20+0</td>\n",
       "      <td>daniamurashov</td>\n",
       "      <td>1439</td>\n",
       "      <td>adivanov2009</td>\n",
       "      <td>1454</td>\n",
       "      <td>d4 d5 Nf3 Bf5 Nc3 Nf6 Bf4 Ng4 e3 Nc6 Be2 Qd7 O...</td>\n",
       "      <td>D02</td>\n",
       "      <td>Queen's Pawn Game: Zukertort Variation</td>\n",
       "      <td>3</td>\n",
       "    </tr>\n",
       "    <tr>\n",
       "      <th>4</th>\n",
       "      <td>9tXo1AUZ</td>\n",
       "      <td>True</td>\n",
       "      <td>1.504030e+12</td>\n",
       "      <td>1.504030e+12</td>\n",
       "      <td>95</td>\n",
       "      <td>mate</td>\n",
       "      <td>white</td>\n",
       "      <td>30+3</td>\n",
       "      <td>nik221107</td>\n",
       "      <td>1523</td>\n",
       "      <td>adivanov2009</td>\n",
       "      <td>1469</td>\n",
       "      <td>e4 e5 Nf3 d6 d4 Nc6 d5 Nb4 a3 Na6 Nc3 Be7 b4 N...</td>\n",
       "      <td>C41</td>\n",
       "      <td>Philidor Defense</td>\n",
       "      <td>5</td>\n",
       "    </tr>\n",
       "  </tbody>\n",
       "</table>\n",
       "</div>"
      ],
      "text/plain": [
       "         id  rated    created_at  last_move_at  turns victory_status winner  \\\n",
       "0  TZJHLljE  False  1.504210e+12  1.504210e+12     13      outoftime  white   \n",
       "1  l1NXvwaE   True  1.504130e+12  1.504130e+12     16         resign  black   \n",
       "2  mIICvQHh   True  1.504130e+12  1.504130e+12     61           mate  white   \n",
       "3  kWKvrqYL   True  1.504110e+12  1.504110e+12     61           mate  white   \n",
       "4  9tXo1AUZ   True  1.504030e+12  1.504030e+12     95           mate  white   \n",
       "\n",
       "  increment_code       white_id  white_rating      black_id  black_rating  \\\n",
       "0           15+2       bourgris          1500          a-00          1191   \n",
       "1           5+10           a-00          1322     skinnerua          1261   \n",
       "2           5+10         ischia          1496          a-00          1500   \n",
       "3           20+0  daniamurashov          1439  adivanov2009          1454   \n",
       "4           30+3      nik221107          1523  adivanov2009          1469   \n",
       "\n",
       "                                               moves opening_eco  \\\n",
       "0  d4 d5 c4 c6 cxd5 e6 dxe6 fxe6 Nf3 Bb4+ Nc3 Ba5...         D10   \n",
       "1  d4 Nc6 e4 e5 f4 f6 dxe5 fxe5 fxe5 Nxe5 Qd4 Nc6...         B00   \n",
       "2  e4 e5 d3 d6 Be3 c6 Be2 b5 Nd2 a5 a4 c5 axb5 Nc...         C20   \n",
       "3  d4 d5 Nf3 Bf5 Nc3 Nf6 Bf4 Ng4 e3 Nc6 Be2 Qd7 O...         D02   \n",
       "4  e4 e5 Nf3 d6 d4 Nc6 d5 Nb4 a3 Na6 Nc3 Be7 b4 N...         C41   \n",
       "\n",
       "                             opening_name  opening_ply  \n",
       "0        Slav Defense: Exchange Variation            5  \n",
       "1  Nimzowitsch Defense: Kennedy Variation            4  \n",
       "2   King's Pawn Game: Leonardis Variation            3  \n",
       "3  Queen's Pawn Game: Zukertort Variation            3  \n",
       "4                        Philidor Defense            5  "
      ]
     },
     "execution_count": 2,
     "metadata": {},
     "output_type": "execute_result"
    }
   ],
   "source": [
    "df = pd.read_csv('games.csv')\n",
    "df.head(5)"
   ]
  },
  {
   "cell_type": "code",
   "execution_count": 3,
   "id": "c01ed3dc-acb2-4647-9ee9-364c40237d97",
   "metadata": {},
   "outputs": [
    {
     "data": {
      "text/html": [
       "<div>\n",
       "<style scoped>\n",
       "    .dataframe tbody tr th:only-of-type {\n",
       "        vertical-align: middle;\n",
       "    }\n",
       "\n",
       "    .dataframe tbody tr th {\n",
       "        vertical-align: top;\n",
       "    }\n",
       "\n",
       "    .dataframe thead th {\n",
       "        text-align: right;\n",
       "    }\n",
       "</style>\n",
       "<table border=\"1\" class=\"dataframe\">\n",
       "  <thead>\n",
       "    <tr style=\"text-align: right;\">\n",
       "      <th></th>\n",
       "      <th>id</th>\n",
       "      <th>rated</th>\n",
       "      <th>turns</th>\n",
       "      <th>victory_status</th>\n",
       "      <th>winner</th>\n",
       "      <th>increment_code</th>\n",
       "      <th>white_id</th>\n",
       "      <th>white_rating</th>\n",
       "      <th>black_id</th>\n",
       "      <th>black_rating</th>\n",
       "      <th>opening_name</th>\n",
       "      <th>opening_ply</th>\n",
       "    </tr>\n",
       "  </thead>\n",
       "  <tbody>\n",
       "    <tr>\n",
       "      <th>0</th>\n",
       "      <td>TZJHLljE</td>\n",
       "      <td>False</td>\n",
       "      <td>13</td>\n",
       "      <td>outoftime</td>\n",
       "      <td>white</td>\n",
       "      <td>15+2</td>\n",
       "      <td>bourgris</td>\n",
       "      <td>1500</td>\n",
       "      <td>a-00</td>\n",
       "      <td>1191</td>\n",
       "      <td>Slav Defense: Exchange Variation</td>\n",
       "      <td>5</td>\n",
       "    </tr>\n",
       "    <tr>\n",
       "      <th>1</th>\n",
       "      <td>l1NXvwaE</td>\n",
       "      <td>True</td>\n",
       "      <td>16</td>\n",
       "      <td>resign</td>\n",
       "      <td>black</td>\n",
       "      <td>5+10</td>\n",
       "      <td>a-00</td>\n",
       "      <td>1322</td>\n",
       "      <td>skinnerua</td>\n",
       "      <td>1261</td>\n",
       "      <td>Nimzowitsch Defense: Kennedy Variation</td>\n",
       "      <td>4</td>\n",
       "    </tr>\n",
       "    <tr>\n",
       "      <th>2</th>\n",
       "      <td>mIICvQHh</td>\n",
       "      <td>True</td>\n",
       "      <td>61</td>\n",
       "      <td>mate</td>\n",
       "      <td>white</td>\n",
       "      <td>5+10</td>\n",
       "      <td>ischia</td>\n",
       "      <td>1496</td>\n",
       "      <td>a-00</td>\n",
       "      <td>1500</td>\n",
       "      <td>King's Pawn Game: Leonardis Variation</td>\n",
       "      <td>3</td>\n",
       "    </tr>\n",
       "    <tr>\n",
       "      <th>3</th>\n",
       "      <td>kWKvrqYL</td>\n",
       "      <td>True</td>\n",
       "      <td>61</td>\n",
       "      <td>mate</td>\n",
       "      <td>white</td>\n",
       "      <td>20+0</td>\n",
       "      <td>daniamurashov</td>\n",
       "      <td>1439</td>\n",
       "      <td>adivanov2009</td>\n",
       "      <td>1454</td>\n",
       "      <td>Queen's Pawn Game: Zukertort Variation</td>\n",
       "      <td>3</td>\n",
       "    </tr>\n",
       "    <tr>\n",
       "      <th>4</th>\n",
       "      <td>9tXo1AUZ</td>\n",
       "      <td>True</td>\n",
       "      <td>95</td>\n",
       "      <td>mate</td>\n",
       "      <td>white</td>\n",
       "      <td>30+3</td>\n",
       "      <td>nik221107</td>\n",
       "      <td>1523</td>\n",
       "      <td>adivanov2009</td>\n",
       "      <td>1469</td>\n",
       "      <td>Philidor Defense</td>\n",
       "      <td>5</td>\n",
       "    </tr>\n",
       "  </tbody>\n",
       "</table>\n",
       "</div>"
      ],
      "text/plain": [
       "         id  rated  turns victory_status winner increment_code       white_id  \\\n",
       "0  TZJHLljE  False     13      outoftime  white           15+2       bourgris   \n",
       "1  l1NXvwaE   True     16         resign  black           5+10           a-00   \n",
       "2  mIICvQHh   True     61           mate  white           5+10         ischia   \n",
       "3  kWKvrqYL   True     61           mate  white           20+0  daniamurashov   \n",
       "4  9tXo1AUZ   True     95           mate  white           30+3      nik221107   \n",
       "\n",
       "   white_rating      black_id  black_rating  \\\n",
       "0          1500          a-00          1191   \n",
       "1          1322     skinnerua          1261   \n",
       "2          1496          a-00          1500   \n",
       "3          1439  adivanov2009          1454   \n",
       "4          1523  adivanov2009          1469   \n",
       "\n",
       "                             opening_name  opening_ply  \n",
       "0        Slav Defense: Exchange Variation            5  \n",
       "1  Nimzowitsch Defense: Kennedy Variation            4  \n",
       "2   King's Pawn Game: Leonardis Variation            3  \n",
       "3  Queen's Pawn Game: Zukertort Variation            3  \n",
       "4                        Philidor Defense            5  "
      ]
     },
     "execution_count": 3,
     "metadata": {},
     "output_type": "execute_result"
    }
   ],
   "source": [
    "df.drop(columns = ['moves','opening_eco','last_move_at','created_at'],inplace=True)\n",
    "df.head()"
   ]
  },
  {
   "cell_type": "code",
   "execution_count": 4,
   "id": "eb0027c2-891d-465f-a64a-fba7ff39f58a",
   "metadata": {},
   "outputs": [
    {
     "name": "stdout",
     "output_type": "stream",
     "text": [
      "<class 'pandas.core.frame.DataFrame'>\n",
      "RangeIndex: 20058 entries, 0 to 20057\n",
      "Data columns (total 12 columns):\n",
      " #   Column          Non-Null Count  Dtype \n",
      "---  ------          --------------  ----- \n",
      " 0   id              20058 non-null  object\n",
      " 1   rated           20058 non-null  bool  \n",
      " 2   turns           20058 non-null  int64 \n",
      " 3   victory_status  20058 non-null  object\n",
      " 4   winner          20058 non-null  object\n",
      " 5   increment_code  20058 non-null  object\n",
      " 6   white_id        20058 non-null  object\n",
      " 7   white_rating    20058 non-null  int64 \n",
      " 8   black_id        20058 non-null  object\n",
      " 9   black_rating    20058 non-null  int64 \n",
      " 10  opening_name    20058 non-null  object\n",
      " 11  opening_ply     20058 non-null  int64 \n",
      "dtypes: bool(1), int64(4), object(7)\n",
      "memory usage: 1.7+ MB\n"
     ]
    }
   ],
   "source": [
    "df.info()"
   ]
  },
  {
   "cell_type": "code",
   "execution_count": 5,
   "id": "3b8d4719-ae0f-4a9a-bc6a-6e4aaa866a47",
   "metadata": {},
   "outputs": [
    {
     "data": {
      "text/plain": [
       "(20058, 12)"
      ]
     },
     "execution_count": 5,
     "metadata": {},
     "output_type": "execute_result"
    }
   ],
   "source": [
    "df.shape"
   ]
  },
  {
   "cell_type": "code",
   "execution_count": 6,
   "id": "7a0bfdd4-9555-46d9-84f5-1ab4daaeca0b",
   "metadata": {},
   "outputs": [
    {
     "data": {
      "text/plain": [
       "array(['Slav Defense: Exchange Variation',\n",
       "       'Nimzowitsch Defense: Kennedy Variation',\n",
       "       \"King's Pawn Game: Leonardis Variation\", ...,\n",
       "       \"Queen's Indian Defense: Classical Variation |  Traditional Variation\",\n",
       "       \"Queen's Gambit Declined: Slav |  Dutch Variation\",\n",
       "       'Sicilian Defense: Najdorf Variation |  Polugaevsky Variation'],\n",
       "      dtype=object)"
      ]
     },
     "execution_count": 6,
     "metadata": {},
     "output_type": "execute_result"
    }
   ],
   "source": [
    "df.opening_name.unique()"
   ]
  },
  {
   "cell_type": "code",
   "execution_count": 7,
   "id": "8e5ca36b-cde7-4162-b7a5-23d1bf046895",
   "metadata": {},
   "outputs": [
    {
     "data": {
      "text/plain": [
       "9438"
      ]
     },
     "execution_count": 7,
     "metadata": {},
     "output_type": "execute_result"
    }
   ],
   "source": [
    "df.white_id.unique().size"
   ]
  },
  {
   "cell_type": "code",
   "execution_count": 8,
   "id": "ee1dbe0f-b678-4ff9-9dab-ff1869839605",
   "metadata": {},
   "outputs": [
    {
     "data": {
      "text/plain": [
       "id                0\n",
       "rated             0\n",
       "turns             0\n",
       "victory_status    0\n",
       "winner            0\n",
       "increment_code    0\n",
       "white_id          0\n",
       "white_rating      0\n",
       "black_id          0\n",
       "black_rating      0\n",
       "opening_name      0\n",
       "opening_ply       0\n",
       "dtype: int64"
      ]
     },
     "execution_count": 8,
     "metadata": {},
     "output_type": "execute_result"
    }
   ],
   "source": [
    "df.isnull().sum()"
   ]
  },
  {
   "cell_type": "markdown",
   "id": "42c48212-90d5-44b4-a30a-89f91c5444b4",
   "metadata": {},
   "source": [
    "So there are no empty values in dataset"
   ]
  },
  {
   "cell_type": "code",
   "execution_count": 9,
   "id": "9d905e5d-e23d-49ed-9033-5b77479afe62",
   "metadata": {},
   "outputs": [
    {
     "data": {
      "text/html": [
       "<div>\n",
       "<style scoped>\n",
       "    .dataframe tbody tr th:only-of-type {\n",
       "        vertical-align: middle;\n",
       "    }\n",
       "\n",
       "    .dataframe tbody tr th {\n",
       "        vertical-align: top;\n",
       "    }\n",
       "\n",
       "    .dataframe thead th {\n",
       "        text-align: right;\n",
       "    }\n",
       "</style>\n",
       "<table border=\"1\" class=\"dataframe\">\n",
       "  <thead>\n",
       "    <tr style=\"text-align: right;\">\n",
       "      <th></th>\n",
       "      <th>turns</th>\n",
       "      <th>white_rating</th>\n",
       "      <th>black_rating</th>\n",
       "      <th>opening_ply</th>\n",
       "    </tr>\n",
       "  </thead>\n",
       "  <tbody>\n",
       "    <tr>\n",
       "      <th>count</th>\n",
       "      <td>20058.000000</td>\n",
       "      <td>20058.000000</td>\n",
       "      <td>20058.000000</td>\n",
       "      <td>20058.000000</td>\n",
       "    </tr>\n",
       "    <tr>\n",
       "      <th>mean</th>\n",
       "      <td>60.465999</td>\n",
       "      <td>1596.631868</td>\n",
       "      <td>1588.831987</td>\n",
       "      <td>4.816981</td>\n",
       "    </tr>\n",
       "    <tr>\n",
       "      <th>std</th>\n",
       "      <td>33.570585</td>\n",
       "      <td>291.253376</td>\n",
       "      <td>291.036126</td>\n",
       "      <td>2.797152</td>\n",
       "    </tr>\n",
       "    <tr>\n",
       "      <th>min</th>\n",
       "      <td>1.000000</td>\n",
       "      <td>784.000000</td>\n",
       "      <td>789.000000</td>\n",
       "      <td>1.000000</td>\n",
       "    </tr>\n",
       "    <tr>\n",
       "      <th>25%</th>\n",
       "      <td>37.000000</td>\n",
       "      <td>1398.000000</td>\n",
       "      <td>1391.000000</td>\n",
       "      <td>3.000000</td>\n",
       "    </tr>\n",
       "    <tr>\n",
       "      <th>50%</th>\n",
       "      <td>55.000000</td>\n",
       "      <td>1567.000000</td>\n",
       "      <td>1562.000000</td>\n",
       "      <td>4.000000</td>\n",
       "    </tr>\n",
       "    <tr>\n",
       "      <th>75%</th>\n",
       "      <td>79.000000</td>\n",
       "      <td>1793.000000</td>\n",
       "      <td>1784.000000</td>\n",
       "      <td>6.000000</td>\n",
       "    </tr>\n",
       "    <tr>\n",
       "      <th>max</th>\n",
       "      <td>349.000000</td>\n",
       "      <td>2700.000000</td>\n",
       "      <td>2723.000000</td>\n",
       "      <td>28.000000</td>\n",
       "    </tr>\n",
       "  </tbody>\n",
       "</table>\n",
       "</div>"
      ],
      "text/plain": [
       "              turns  white_rating  black_rating   opening_ply\n",
       "count  20058.000000  20058.000000  20058.000000  20058.000000\n",
       "mean      60.465999   1596.631868   1588.831987      4.816981\n",
       "std       33.570585    291.253376    291.036126      2.797152\n",
       "min        1.000000    784.000000    789.000000      1.000000\n",
       "25%       37.000000   1398.000000   1391.000000      3.000000\n",
       "50%       55.000000   1567.000000   1562.000000      4.000000\n",
       "75%       79.000000   1793.000000   1784.000000      6.000000\n",
       "max      349.000000   2700.000000   2723.000000     28.000000"
      ]
     },
     "execution_count": 9,
     "metadata": {},
     "output_type": "execute_result"
    }
   ],
   "source": [
    "df.describe()"
   ]
  },
  {
   "cell_type": "code",
   "execution_count": 10,
   "id": "9af9580b-5cb3-4b55-a8c1-dbf17b7ed7cd",
   "metadata": {},
   "outputs": [
    {
     "data": {
      "text/plain": [
       "id                object\n",
       "rated               bool\n",
       "turns              int64\n",
       "victory_status    object\n",
       "winner            object\n",
       "increment_code    object\n",
       "white_id          object\n",
       "white_rating       int64\n",
       "black_id          object\n",
       "black_rating       int64\n",
       "opening_name      object\n",
       "opening_ply        int64\n",
       "dtype: object"
      ]
     },
     "execution_count": 10,
     "metadata": {},
     "output_type": "execute_result"
    }
   ],
   "source": [
    "df.dtypes"
   ]
  },
  {
   "cell_type": "code",
   "execution_count": 11,
   "id": "b98de27f-3e23-4abc-9138-26328355f3b4",
   "metadata": {},
   "outputs": [
    {
     "data": {
      "text/plain": [
       "0              Slav Defense: Exchange Variation\n",
       "1        Nimzowitsch Defense: Kennedy Variation\n",
       "2         King's Pawn Game: Leonardis Variation\n",
       "3        Queen's Pawn Game: Zukertort Variation\n",
       "4                              Philidor Defense\n",
       "                          ...                  \n",
       "20053                             Dutch Defense\n",
       "20054                              Queen's Pawn\n",
       "20055           Queen's Pawn Game: Mason Attack\n",
       "20056                              Pirc Defense\n",
       "20057           Queen's Pawn Game: Mason Attack\n",
       "Name: opening_name, Length: 20058, dtype: object"
      ]
     },
     "execution_count": 11,
     "metadata": {},
     "output_type": "execute_result"
    }
   ],
   "source": [
    "df['opening_name'].astype(str)"
   ]
  },
  {
   "cell_type": "markdown",
   "id": "2ae5bdf2-475a-4851-9a94-35ec37f4ae7d",
   "metadata": {},
   "source": [
    "# Section-2: Exploratory Analysis and Visualization"
   ]
  },
  {
   "cell_type": "markdown",
   "id": "b6c77ed5-9ffa-47fc-bf21-de25861ebff9",
   "metadata": {},
   "source": [
    "## Q1. Which is the most played chess opening?"
   ]
  },
  {
   "cell_type": "code",
   "execution_count": 12,
   "id": "578899de-d87a-46af-ad9a-b5333785fe8f",
   "metadata": {},
   "outputs": [],
   "source": [
    "popularopening = df.groupby('opening_name')[['id']].count()"
   ]
  },
  {
   "cell_type": "code",
   "execution_count": 13,
   "id": "bdca4a53-68ec-4110-b4ed-adde552c9a3b",
   "metadata": {},
   "outputs": [],
   "source": [
    "popularopening = popularopening.sort_values('id',ascending = False).reset_index()\n",
    "popularopening.rename(columns={'id':'Total','opening_name':'Opening Observed'},inplace=True)"
   ]
  },
  {
   "cell_type": "code",
   "execution_count": 14,
   "id": "07a0b2ee-4551-4711-922c-7fc85461a206",
   "metadata": {},
   "outputs": [
    {
     "data": {
      "text/html": [
       "<div>\n",
       "<style scoped>\n",
       "    .dataframe tbody tr th:only-of-type {\n",
       "        vertical-align: middle;\n",
       "    }\n",
       "\n",
       "    .dataframe tbody tr th {\n",
       "        vertical-align: top;\n",
       "    }\n",
       "\n",
       "    .dataframe thead th {\n",
       "        text-align: right;\n",
       "    }\n",
       "</style>\n",
       "<table border=\"1\" class=\"dataframe\">\n",
       "  <thead>\n",
       "    <tr style=\"text-align: right;\">\n",
       "      <th></th>\n",
       "      <th>Opening Observed</th>\n",
       "      <th>Total</th>\n",
       "    </tr>\n",
       "  </thead>\n",
       "  <tbody>\n",
       "    <tr>\n",
       "      <th>0</th>\n",
       "      <td>Van't Kruijs Opening</td>\n",
       "      <td>368</td>\n",
       "    </tr>\n",
       "    <tr>\n",
       "      <th>1</th>\n",
       "      <td>Sicilian Defense</td>\n",
       "      <td>358</td>\n",
       "    </tr>\n",
       "    <tr>\n",
       "      <th>2</th>\n",
       "      <td>Sicilian Defense: Bowdler Attack</td>\n",
       "      <td>296</td>\n",
       "    </tr>\n",
       "    <tr>\n",
       "      <th>3</th>\n",
       "      <td>Scotch Game</td>\n",
       "      <td>271</td>\n",
       "    </tr>\n",
       "    <tr>\n",
       "      <th>4</th>\n",
       "      <td>French Defense: Knight Variation</td>\n",
       "      <td>271</td>\n",
       "    </tr>\n",
       "    <tr>\n",
       "      <th>5</th>\n",
       "      <td>Scandinavian Defense: Mieses-Kotroc Variation</td>\n",
       "      <td>259</td>\n",
       "    </tr>\n",
       "    <tr>\n",
       "      <th>6</th>\n",
       "      <td>Queen's Pawn Game: Mason Attack</td>\n",
       "      <td>232</td>\n",
       "    </tr>\n",
       "    <tr>\n",
       "      <th>7</th>\n",
       "      <td>Queen's Pawn Game: Chigorin Variation</td>\n",
       "      <td>229</td>\n",
       "    </tr>\n",
       "    <tr>\n",
       "      <th>8</th>\n",
       "      <td>Scandinavian Defense</td>\n",
       "      <td>223</td>\n",
       "    </tr>\n",
       "    <tr>\n",
       "      <th>9</th>\n",
       "      <td>Horwitz Defense</td>\n",
       "      <td>209</td>\n",
       "    </tr>\n",
       "  </tbody>\n",
       "</table>\n",
       "</div>"
      ],
      "text/plain": [
       "                                Opening Observed  Total\n",
       "0                           Van't Kruijs Opening    368\n",
       "1                               Sicilian Defense    358\n",
       "2               Sicilian Defense: Bowdler Attack    296\n",
       "3                                    Scotch Game    271\n",
       "4               French Defense: Knight Variation    271\n",
       "5  Scandinavian Defense: Mieses-Kotroc Variation    259\n",
       "6                Queen's Pawn Game: Mason Attack    232\n",
       "7          Queen's Pawn Game: Chigorin Variation    229\n",
       "8                           Scandinavian Defense    223\n",
       "9                                Horwitz Defense    209"
      ]
     },
     "execution_count": 14,
     "metadata": {},
     "output_type": "execute_result"
    }
   ],
   "source": [
    "popularopening.head(10)"
   ]
  },
  {
   "cell_type": "code",
   "execution_count": 15,
   "id": "0ebbc6a2-844f-4da8-934a-4a929f85ad4b",
   "metadata": {},
   "outputs": [
    {
     "data": {
      "text/plain": [
       "1477"
      ]
     },
     "execution_count": 15,
     "metadata": {},
     "output_type": "execute_result"
    }
   ],
   "source": [
    "labels=list(popularopening['Opening Observed'])\n",
    "len(labels)"
   ]
  },
  {
   "cell_type": "markdown",
   "id": "beaff289-0a55-4534-b445-6827d22da513",
   "metadata": {},
   "source": [
    "There are so many variations of openings played, so we will take only top 10 openings."
   ]
  },
  {
   "cell_type": "code",
   "execution_count": 16,
   "id": "4a368805-252a-47f6-ae90-dd3e2074979c",
   "metadata": {},
   "outputs": [
    {
     "data": {
      "text/html": [
       "<div>\n",
       "<style scoped>\n",
       "    .dataframe tbody tr th:only-of-type {\n",
       "        vertical-align: middle;\n",
       "    }\n",
       "\n",
       "    .dataframe tbody tr th {\n",
       "        vertical-align: top;\n",
       "    }\n",
       "\n",
       "    .dataframe thead th {\n",
       "        text-align: right;\n",
       "    }\n",
       "</style>\n",
       "<table border=\"1\" class=\"dataframe\">\n",
       "  <thead>\n",
       "    <tr style=\"text-align: right;\">\n",
       "      <th></th>\n",
       "      <th>Opening Observed</th>\n",
       "      <th>Total</th>\n",
       "    </tr>\n",
       "  </thead>\n",
       "  <tbody>\n",
       "    <tr>\n",
       "      <th>0</th>\n",
       "      <td>Van't Kruijs Opening</td>\n",
       "      <td>368</td>\n",
       "    </tr>\n",
       "    <tr>\n",
       "      <th>1</th>\n",
       "      <td>Sicilian Defense</td>\n",
       "      <td>358</td>\n",
       "    </tr>\n",
       "    <tr>\n",
       "      <th>2</th>\n",
       "      <td>Sicilian Defense: Bowdler Attack</td>\n",
       "      <td>296</td>\n",
       "    </tr>\n",
       "    <tr>\n",
       "      <th>3</th>\n",
       "      <td>Scotch Game</td>\n",
       "      <td>271</td>\n",
       "    </tr>\n",
       "    <tr>\n",
       "      <th>4</th>\n",
       "      <td>French Defense: Knight Variation</td>\n",
       "      <td>271</td>\n",
       "    </tr>\n",
       "    <tr>\n",
       "      <th>5</th>\n",
       "      <td>Scandinavian Defense: Mieses-Kotroc Variation</td>\n",
       "      <td>259</td>\n",
       "    </tr>\n",
       "    <tr>\n",
       "      <th>6</th>\n",
       "      <td>Queen's Pawn Game: Mason Attack</td>\n",
       "      <td>232</td>\n",
       "    </tr>\n",
       "    <tr>\n",
       "      <th>7</th>\n",
       "      <td>Queen's Pawn Game: Chigorin Variation</td>\n",
       "      <td>229</td>\n",
       "    </tr>\n",
       "    <tr>\n",
       "      <th>8</th>\n",
       "      <td>Scandinavian Defense</td>\n",
       "      <td>223</td>\n",
       "    </tr>\n",
       "    <tr>\n",
       "      <th>9</th>\n",
       "      <td>Horwitz Defense</td>\n",
       "      <td>209</td>\n",
       "    </tr>\n",
       "  </tbody>\n",
       "</table>\n",
       "</div>"
      ],
      "text/plain": [
       "                                Opening Observed  Total\n",
       "0                           Van't Kruijs Opening    368\n",
       "1                               Sicilian Defense    358\n",
       "2               Sicilian Defense: Bowdler Attack    296\n",
       "3                                    Scotch Game    271\n",
       "4               French Defense: Knight Variation    271\n",
       "5  Scandinavian Defense: Mieses-Kotroc Variation    259\n",
       "6                Queen's Pawn Game: Mason Attack    232\n",
       "7          Queen's Pawn Game: Chigorin Variation    229\n",
       "8                           Scandinavian Defense    223\n",
       "9                                Horwitz Defense    209"
      ]
     },
     "execution_count": 16,
     "metadata": {},
     "output_type": "execute_result"
    }
   ],
   "source": [
    "popularopening = popularopening.iloc[0:10, :]\n",
    "popularopening"
   ]
  },
  {
   "cell_type": "code",
   "execution_count": 17,
   "id": "e4ebe7e4-797b-46e4-a9d6-d411fa9e8171",
   "metadata": {},
   "outputs": [],
   "source": [
    "labels=list(popularopening['Opening Observed'])"
   ]
  },
  {
   "cell_type": "code",
   "execution_count": 18,
   "id": "05bee92f-df17-4345-94cf-dc13e092a9ea",
   "metadata": {},
   "outputs": [
    {
     "data": {
      "image/png": "[encoded data removed]",
      "text/plain": [
       "<Figure size 2160x1080 with 1 Axes>"
      ]
     },
     "metadata": {
      "needs_background": "light"
     },
     "output_type": "display_data"
    }
   ],
   "source": [
    "plt.figure(figsize=(30,15))\n",
    "plt.grid()\n",
    "plt.title('Popular Openings',fontsize=30)\n",
    "barplot = sns.barplot(x='Total',y='Opening Observed',data=popularopening);\n",
    "barplot.set_xlabel(\"Total Number of Matches Played\", fontsize = 30);\n",
    "barplot.set_ylabel(\"Opening Observed\", fontsize = 30);"
   ]
  },
  {
   "cell_type": "markdown",
   "id": "87cd5e4f-4ce0-4842-8984-d25c76eb45fe",
   "metadata": {},
   "source": [
    "Clearly, Van't Krujis Oppening followed by Sicilian Defense are the most played openings in chess."
   ]
  },
  {
   "cell_type": "markdown",
   "id": "c4df5c4f-5427-46b2-8242-244d0c159120",
   "metadata": {},
   "source": [
    "## Q2. How did most of the games concluded?"
   ]
  },
  {
   "cell_type": "code",
   "execution_count": 19,
   "id": "8ef2bed3-784f-4c04-9a54-384d94e8af7d",
   "metadata": {},
   "outputs": [
    {
     "data": {
      "text/html": [
       "<div>\n",
       "<style scoped>\n",
       "    .dataframe tbody tr th:only-of-type {\n",
       "        vertical-align: middle;\n",
       "    }\n",
       "\n",
       "    .dataframe tbody tr th {\n",
       "        vertical-align: top;\n",
       "    }\n",
       "\n",
       "    .dataframe thead th {\n",
       "        text-align: right;\n",
       "    }\n",
       "</style>\n",
       "<table border=\"1\" class=\"dataframe\">\n",
       "  <thead>\n",
       "    <tr style=\"text-align: right;\">\n",
       "      <th></th>\n",
       "      <th>id</th>\n",
       "    </tr>\n",
       "    <tr>\n",
       "      <th>victory_status</th>\n",
       "      <th></th>\n",
       "    </tr>\n",
       "  </thead>\n",
       "  <tbody>\n",
       "    <tr>\n",
       "      <th>draw</th>\n",
       "      <td>906</td>\n",
       "    </tr>\n",
       "    <tr>\n",
       "      <th>mate</th>\n",
       "      <td>6325</td>\n",
       "    </tr>\n",
       "    <tr>\n",
       "      <th>outoftime</th>\n",
       "      <td>1680</td>\n",
       "    </tr>\n",
       "    <tr>\n",
       "      <th>resign</th>\n",
       "      <td>11147</td>\n",
       "    </tr>\n",
       "  </tbody>\n",
       "</table>\n",
       "</div>"
      ],
      "text/plain": [
       "                   id\n",
       "victory_status       \n",
       "draw              906\n",
       "mate             6325\n",
       "outoftime        1680\n",
       "resign          11147"
      ]
     },
     "execution_count": 19,
     "metadata": {},
     "output_type": "execute_result"
    }
   ],
   "source": [
    "ending = df.groupby('victory_status')[['id']].count()\n",
    "ending.head()"
   ]
  },
  {
   "cell_type": "code",
   "execution_count": 20,
   "id": "3b475e6d-1159-4b12-909f-8bf0da3aedc5",
   "metadata": {},
   "outputs": [
    {
     "data": {
      "text/html": [
       "<div>\n",
       "<style scoped>\n",
       "    .dataframe tbody tr th:only-of-type {\n",
       "        vertical-align: middle;\n",
       "    }\n",
       "\n",
       "    .dataframe tbody tr th {\n",
       "        vertical-align: top;\n",
       "    }\n",
       "\n",
       "    .dataframe thead th {\n",
       "        text-align: right;\n",
       "    }\n",
       "</style>\n",
       "<table border=\"1\" class=\"dataframe\">\n",
       "  <thead>\n",
       "    <tr style=\"text-align: right;\">\n",
       "      <th></th>\n",
       "      <th>Conclusion</th>\n",
       "      <th>Total</th>\n",
       "    </tr>\n",
       "  </thead>\n",
       "  <tbody>\n",
       "    <tr>\n",
       "      <th>0</th>\n",
       "      <td>resign</td>\n",
       "      <td>11147</td>\n",
       "    </tr>\n",
       "    <tr>\n",
       "      <th>1</th>\n",
       "      <td>mate</td>\n",
       "      <td>6325</td>\n",
       "    </tr>\n",
       "    <tr>\n",
       "      <th>2</th>\n",
       "      <td>outoftime</td>\n",
       "      <td>1680</td>\n",
       "    </tr>\n",
       "    <tr>\n",
       "      <th>3</th>\n",
       "      <td>draw</td>\n",
       "      <td>906</td>\n",
       "    </tr>\n",
       "  </tbody>\n",
       "</table>\n",
       "</div>"
      ],
      "text/plain": [
       "  Conclusion  Total\n",
       "0     resign  11147\n",
       "1       mate   6325\n",
       "2  outoftime   1680\n",
       "3       draw    906"
      ]
     },
     "execution_count": 20,
     "metadata": {},
     "output_type": "execute_result"
    }
   ],
   "source": [
    "ending = ending.sort_values('id',ascending = False).reset_index()\n",
    "ending.rename(columns={'id':'Total','victory_status':'Conclusion'},inplace=True)\n",
    "ending.head()"
   ]
  },
  {
   "cell_type": "code",
   "execution_count": 21,
   "id": "7dfb4b58-bc9d-4371-8a2a-066e30988097",
   "metadata": {},
   "outputs": [],
   "source": [
    "labels = list(ending['Conclusion'])"
   ]
  },
  {
   "cell_type": "code",
   "execution_count": 22,
   "id": "35bccfdf-9b82-4c34-81ed-74c2c7c24686",
   "metadata": {},
   "outputs": [
    {
     "data": {
      "image/png": "[encoded data removed]",
      "text/plain": [
       "<Figure size 1440x1440 with 1 Axes>"
      ]
     },
     "metadata": {},
     "output_type": "display_data"
    }
   ],
   "source": [
    "plt.figure(figsize=(20,20))\n",
    "plt.title(\"Game Conclusions\",fontweight='bold',fontsize=30)\n",
    "plt.tick_params(labelsize=40)\n",
    "plt.pie(ending.Total,labels=labels,textprops={'fontsize': 13});"
   ]
  },
  {
   "cell_type": "markdown",
   "id": "d0a05f43-d604-4bfb-ab92-03b07f80cbf8",
   "metadata": {},
   "source": [
    "Most of the games ended in resignation of a player."
   ]
  },
  {
   "cell_type": "markdown",
   "id": "1cac7a53-7258-47aa-8082-6e42c8be5a5a",
   "metadata": {},
   "source": [
    "## Q3. What is the distribution of number of turns played in a match?"
   ]
  },
  {
   "cell_type": "code",
   "execution_count": 23,
   "id": "15c008a3-592d-45bf-9088-7b2b4ef39249",
   "metadata": {},
   "outputs": [
    {
     "data": {
      "text/html": [
       "<div>\n",
       "<style scoped>\n",
       "    .dataframe tbody tr th:only-of-type {\n",
       "        vertical-align: middle;\n",
       "    }\n",
       "\n",
       "    .dataframe tbody tr th {\n",
       "        vertical-align: top;\n",
       "    }\n",
       "\n",
       "    .dataframe thead th {\n",
       "        text-align: right;\n",
       "    }\n",
       "</style>\n",
       "<table border=\"1\" class=\"dataframe\">\n",
       "  <thead>\n",
       "    <tr style=\"text-align: right;\">\n",
       "      <th></th>\n",
       "      <th>id</th>\n",
       "    </tr>\n",
       "    <tr>\n",
       "      <th>turns</th>\n",
       "      <th></th>\n",
       "    </tr>\n",
       "  </thead>\n",
       "  <tbody>\n",
       "    <tr>\n",
       "      <th>1</th>\n",
       "      <td>18</td>\n",
       "    </tr>\n",
       "    <tr>\n",
       "      <th>2</th>\n",
       "      <td>185</td>\n",
       "    </tr>\n",
       "    <tr>\n",
       "      <th>3</th>\n",
       "      <td>87</td>\n",
       "    </tr>\n",
       "    <tr>\n",
       "      <th>4</th>\n",
       "      <td>52</td>\n",
       "    </tr>\n",
       "    <tr>\n",
       "      <th>5</th>\n",
       "      <td>40</td>\n",
       "    </tr>\n",
       "  </tbody>\n",
       "</table>\n",
       "</div>"
      ],
      "text/plain": [
       "        id\n",
       "turns     \n",
       "1       18\n",
       "2      185\n",
       "3       87\n",
       "4       52\n",
       "5       40"
      ]
     },
     "execution_count": 23,
     "metadata": {},
     "output_type": "execute_result"
    }
   ],
   "source": [
    "turndf = df.groupby('turns')[['id']].count()\n",
    "turndf.head()"
   ]
  },
  {
   "cell_type": "code",
   "execution_count": 24,
   "id": "0725c918-c096-4d86-914f-5f9335cdcc7c",
   "metadata": {},
   "outputs": [
    {
     "data": {
      "text/plain": [
       "<bound method DataFrame.info of         id\n",
       "turns     \n",
       "1       18\n",
       "2      185\n",
       "3       87\n",
       "4       52\n",
       "5       40\n",
       "...    ...\n",
       "222      2\n",
       "226      1\n",
       "255      1\n",
       "259      1\n",
       "349      2\n",
       "\n",
       "[211 rows x 1 columns]>"
      ]
     },
     "execution_count": 24,
     "metadata": {},
     "output_type": "execute_result"
    }
   ],
   "source": [
    "turndf.info"
   ]
  },
  {
   "cell_type": "code",
   "execution_count": 25,
   "id": "a620cca0-7d01-440f-89d3-a0e41e0ceff1",
   "metadata": {},
   "outputs": [
    {
     "data": {
      "image/png": "[encoded data removed]",
      "text/plain": [
       "<Figure size 1440x720 with 1 Axes>"
      ]
     },
     "metadata": {
      "needs_background": "light"
     },
     "output_type": "display_data"
    }
   ],
   "source": [
    "lines = turndf.plot.line(color = 'orange',figsize=(20,10))"
   ]
  },
  {
   "cell_type": "code",
   "execution_count": 26,
   "id": "66cce482-a7a7-4c9c-8d51-3c135578f603",
   "metadata": {},
   "outputs": [
    {
     "data": {
      "text/html": [
       "<div>\n",
       "<style scoped>\n",
       "    .dataframe tbody tr th:only-of-type {\n",
       "        vertical-align: middle;\n",
       "    }\n",
       "\n",
       "    .dataframe tbody tr th {\n",
       "        vertical-align: top;\n",
       "    }\n",
       "\n",
       "    .dataframe thead th {\n",
       "        text-align: right;\n",
       "    }\n",
       "</style>\n",
       "<table border=\"1\" class=\"dataframe\">\n",
       "  <thead>\n",
       "    <tr style=\"text-align: right;\">\n",
       "      <th></th>\n",
       "      <th>id</th>\n",
       "    </tr>\n",
       "  </thead>\n",
       "  <tbody>\n",
       "    <tr>\n",
       "      <th>count</th>\n",
       "      <td>211.000000</td>\n",
       "    </tr>\n",
       "    <tr>\n",
       "      <th>mean</th>\n",
       "      <td>95.061611</td>\n",
       "    </tr>\n",
       "    <tr>\n",
       "      <th>std</th>\n",
       "      <td>93.972645</td>\n",
       "    </tr>\n",
       "    <tr>\n",
       "      <th>min</th>\n",
       "      <td>1.000000</td>\n",
       "    </tr>\n",
       "    <tr>\n",
       "      <th>25%</th>\n",
       "      <td>11.000000</td>\n",
       "    </tr>\n",
       "    <tr>\n",
       "      <th>50%</th>\n",
       "      <td>65.000000</td>\n",
       "    </tr>\n",
       "    <tr>\n",
       "      <th>75%</th>\n",
       "      <td>159.500000</td>\n",
       "    </tr>\n",
       "    <tr>\n",
       "      <th>max</th>\n",
       "      <td>303.000000</td>\n",
       "    </tr>\n",
       "  </tbody>\n",
       "</table>\n",
       "</div>"
      ],
      "text/plain": [
       "               id\n",
       "count  211.000000\n",
       "mean    95.061611\n",
       "std     93.972645\n",
       "min      1.000000\n",
       "25%     11.000000\n",
       "50%     65.000000\n",
       "75%    159.500000\n",
       "max    303.000000"
      ]
     },
     "execution_count": 26,
     "metadata": {},
     "output_type": "execute_result"
    }
   ],
   "source": [
    "turndf.describe()"
   ]
  },
  {
   "cell_type": "markdown",
   "id": "242185f0-102d-4452-b398-952fe47d30f6",
   "metadata": {},
   "source": [
    "More than half of the matches ended within 65 moves."
   ]
  },
  {
   "cell_type": "code",
   "execution_count": 27,
   "id": "e3f918ba-01ee-4d68-ac8c-c91f4522af8f",
   "metadata": {},
   "outputs": [
    {
     "data": {
      "text/plain": [
       "Index(['id', 'rated', 'turns', 'victory_status', 'winner', 'increment_code',\n",
       "       'white_id', 'white_rating', 'black_id', 'black_rating', 'opening_name',\n",
       "       'opening_ply'],\n",
       "      dtype='object')"
      ]
     },
     "execution_count": 27,
     "metadata": {},
     "output_type": "execute_result"
    }
   ],
   "source": [
    "df.columns"
   ]
  },
  {
   "cell_type": "markdown",
   "id": "cca1f5e7-321c-45ef-861a-39e2566ba80e",
   "metadata": {},
   "source": [
    "## Q4. Which color is likely to win more games?"
   ]
  },
  {
   "cell_type": "code",
   "execution_count": 42,
   "id": "b38b7b94-731c-4c05-bfad-72f994f003ba",
   "metadata": {},
   "outputs": [
    {
     "data": {
      "text/plain": [
       "array(['white', 'black', 'draw'], dtype=object)"
      ]
     },
     "execution_count": 42,
     "metadata": {},
     "output_type": "execute_result"
    }
   ],
   "source": [
    "df.winner.unique()"
   ]
  },
  {
   "cell_type": "code",
   "execution_count": 43,
   "id": "5a5a518a-e244-43fc-b996-3d679482e9cb",
   "metadata": {},
   "outputs": [],
   "source": [
    "colordf = df.groupby('winner')[['id']].count()"
   ]
  },
  {
   "cell_type": "code",
   "execution_count": 44,
   "id": "7825c6dc-7231-4ce5-91f5-6331c4d4efd5",
   "metadata": {},
   "outputs": [
    {
     "data": {
      "text/html": [
       "<div>\n",
       "<style scoped>\n",
       "    .dataframe tbody tr th:only-of-type {\n",
       "        vertical-align: middle;\n",
       "    }\n",
       "\n",
       "    .dataframe tbody tr th {\n",
       "        vertical-align: top;\n",
       "    }\n",
       "\n",
       "    .dataframe thead th {\n",
       "        text-align: right;\n",
       "    }\n",
       "</style>\n",
       "<table border=\"1\" class=\"dataframe\">\n",
       "  <thead>\n",
       "    <tr style=\"text-align: right;\">\n",
       "      <th></th>\n",
       "      <th>id</th>\n",
       "    </tr>\n",
       "    <tr>\n",
       "      <th>winner</th>\n",
       "      <th></th>\n",
       "    </tr>\n",
       "  </thead>\n",
       "  <tbody>\n",
       "    <tr>\n",
       "      <th>black</th>\n",
       "      <td>9107</td>\n",
       "    </tr>\n",
       "    <tr>\n",
       "      <th>draw</th>\n",
       "      <td>950</td>\n",
       "    </tr>\n",
       "    <tr>\n",
       "      <th>white</th>\n",
       "      <td>10001</td>\n",
       "    </tr>\n",
       "  </tbody>\n",
       "</table>\n",
       "</div>"
      ],
      "text/plain": [
       "           id\n",
       "winner       \n",
       "black    9107\n",
       "draw      950\n",
       "white   10001"
      ]
     },
     "execution_count": 44,
     "metadata": {},
     "output_type": "execute_result"
    }
   ],
   "source": [
    "colordf"
   ]
  },
  {
   "cell_type": "code",
   "execution_count": 45,
   "id": "8e18ba06-a922-44ae-8838-61dee6d79477",
   "metadata": {},
   "outputs": [
    {
     "data": {
      "text/html": [
       "<div>\n",
       "<style scoped>\n",
       "    .dataframe tbody tr th:only-of-type {\n",
       "        vertical-align: middle;\n",
       "    }\n",
       "\n",
       "    .dataframe tbody tr th {\n",
       "        vertical-align: top;\n",
       "    }\n",
       "\n",
       "    .dataframe thead th {\n",
       "        text-align: right;\n",
       "    }\n",
       "</style>\n",
       "<table border=\"1\" class=\"dataframe\">\n",
       "  <thead>\n",
       "    <tr style=\"text-align: right;\">\n",
       "      <th></th>\n",
       "      <th>Winner</th>\n",
       "      <th>Victories</th>\n",
       "    </tr>\n",
       "  </thead>\n",
       "  <tbody>\n",
       "    <tr>\n",
       "      <th>0</th>\n",
       "      <td>draw</td>\n",
       "      <td>950</td>\n",
       "    </tr>\n",
       "    <tr>\n",
       "      <th>1</th>\n",
       "      <td>black</td>\n",
       "      <td>9107</td>\n",
       "    </tr>\n",
       "    <tr>\n",
       "      <th>2</th>\n",
       "      <td>white</td>\n",
       "      <td>10001</td>\n",
       "    </tr>\n",
       "  </tbody>\n",
       "</table>\n",
       "</div>"
      ],
      "text/plain": [
       "  Winner  Victories\n",
       "0   draw        950\n",
       "1  black       9107\n",
       "2  white      10001"
      ]
     },
     "execution_count": 45,
     "metadata": {},
     "output_type": "execute_result"
    }
   ],
   "source": [
    "colordf = colordf.sort_values('id').reset_index()\n",
    "colordf.rename(columns = {'winner':'Winner','id':'Victories'},inplace=True)\n",
    "colordf.head()"
   ]
  },
  {
   "cell_type": "code",
   "execution_count": 52,
   "id": "5941c6b3-449f-4631-a97f-e2f933e796e7",
   "metadata": {},
   "outputs": [
    {
     "data": {
      "image/png": "[encoded data removed]",
      "text/plain": [
       "<Figure size 360x360 with 1 Axes>"
      ]
     },
     "metadata": {
      "needs_background": "light"
     },
     "output_type": "display_data"
    }
   ],
   "source": [
    "#Lets plot the Result\n",
    "plt.figure(figsize=(5,5))\n",
    "plt.title(\"Stronger Side\",fontweight='bold',fontsize=20)\n",
    "plt.xlabel('Status',fontweight='bold',fontsize=10)\n",
    "plt.ylabel('Number of Victories',fontweight='bold',fontsize=10)\n",
    "plt.tick_params(labelsize=10)\n",
    "plt.grid()\n",
    "plt.bar(colordf.Winner, colordf.Victories,edgecolor='red',color=['green','black','white']);"
   ]
  },
  {
   "cell_type": "markdown",
   "id": "1f88d0e2-9922-44c4-8647-5b8c5296cd3f",
   "metadata": {},
   "source": [
    "Seems like white color can bag you some more wins."
   ]
  },
  {
   "cell_type": "code",
   "execution_count": 55,
   "id": "c471f3e9-e297-4f02-8c8e-e83956a77467",
   "metadata": {},
   "outputs": [
    {
     "data": {
      "text/plain": [
       "Index(['id', 'rated', 'turns', 'victory_status', 'winner', 'increment_code',\n",
       "       'white_id', 'white_rating', 'black_id', 'black_rating', 'opening_name',\n",
       "       'opening_ply'],\n",
       "      dtype='object')"
      ]
     },
     "execution_count": 55,
     "metadata": {},
     "output_type": "execute_result"
    }
   ],
   "source": [
    "df.columns"
   ]
  },
  {
   "cell_type": "markdown",
   "id": "829679c0-abc2-4b8e-85e2-919783ecd7b6",
   "metadata": {},
   "source": [
    "## Q5. What is distribution of rated players?"
   ]
  },
  {
   "cell_type": "code",
   "execution_count": 58,
   "id": "8a9425e0-b8c7-4f26-8356-1279cd22670e",
   "metadata": {},
   "outputs": [
    {
     "data": {
      "text/html": [
       "<div>\n",
       "<style scoped>\n",
       "    .dataframe tbody tr th:only-of-type {\n",
       "        vertical-align: middle;\n",
       "    }\n",
       "\n",
       "    .dataframe tbody tr th {\n",
       "        vertical-align: top;\n",
       "    }\n",
       "\n",
       "    .dataframe thead th {\n",
       "        text-align: right;\n",
       "    }\n",
       "</style>\n",
       "<table border=\"1\" class=\"dataframe\">\n",
       "  <thead>\n",
       "    <tr style=\"text-align: right;\">\n",
       "      <th></th>\n",
       "      <th>id</th>\n",
       "    </tr>\n",
       "    <tr>\n",
       "      <th>white_rating</th>\n",
       "      <th></th>\n",
       "    </tr>\n",
       "  </thead>\n",
       "  <tbody>\n",
       "    <tr>\n",
       "      <th>784</th>\n",
       "      <td>2</td>\n",
       "    </tr>\n",
       "    <tr>\n",
       "      <th>788</th>\n",
       "      <td>1</td>\n",
       "    </tr>\n",
       "    <tr>\n",
       "      <th>793</th>\n",
       "      <td>1</td>\n",
       "    </tr>\n",
       "    <tr>\n",
       "      <th>795</th>\n",
       "      <td>1</td>\n",
       "    </tr>\n",
       "    <tr>\n",
       "      <th>798</th>\n",
       "      <td>2</td>\n",
       "    </tr>\n",
       "    <tr>\n",
       "      <th>...</th>\n",
       "      <td>...</td>\n",
       "    </tr>\n",
       "    <tr>\n",
       "      <th>2617</th>\n",
       "      <td>1</td>\n",
       "    </tr>\n",
       "    <tr>\n",
       "      <th>2619</th>\n",
       "      <td>2</td>\n",
       "    </tr>\n",
       "    <tr>\n",
       "      <th>2621</th>\n",
       "      <td>24</td>\n",
       "    </tr>\n",
       "    <tr>\n",
       "      <th>2622</th>\n",
       "      <td>1</td>\n",
       "    </tr>\n",
       "    <tr>\n",
       "      <th>2700</th>\n",
       "      <td>1</td>\n",
       "    </tr>\n",
       "  </tbody>\n",
       "</table>\n",
       "<p>1516 rows × 1 columns</p>\n",
       "</div>"
      ],
      "text/plain": [
       "              id\n",
       "white_rating    \n",
       "784            2\n",
       "788            1\n",
       "793            1\n",
       "795            1\n",
       "798            2\n",
       "...           ..\n",
       "2617           1\n",
       "2619           2\n",
       "2621          24\n",
       "2622           1\n",
       "2700           1\n",
       "\n",
       "[1516 rows x 1 columns]"
      ]
     },
     "execution_count": 58,
     "metadata": {},
     "output_type": "execute_result"
    }
   ],
   "source": [
    "whitedf = df.groupby('white_rating')[['id']].count()\n",
    "whitedf"
   ]
  },
  {
   "cell_type": "code",
   "execution_count": 59,
   "id": "4ff91260-61ee-4d72-a97c-bfb85615f45d",
   "metadata": {},
   "outputs": [
    {
     "data": {
      "text/html": [
       "<div>\n",
       "<style scoped>\n",
       "    .dataframe tbody tr th:only-of-type {\n",
       "        vertical-align: middle;\n",
       "    }\n",
       "\n",
       "    .dataframe tbody tr th {\n",
       "        vertical-align: top;\n",
       "    }\n",
       "\n",
       "    .dataframe thead th {\n",
       "        text-align: right;\n",
       "    }\n",
       "</style>\n",
       "<table border=\"1\" class=\"dataframe\">\n",
       "  <thead>\n",
       "    <tr style=\"text-align: right;\">\n",
       "      <th></th>\n",
       "      <th>id</th>\n",
       "    </tr>\n",
       "    <tr>\n",
       "      <th>black_rating</th>\n",
       "      <th></th>\n",
       "    </tr>\n",
       "  </thead>\n",
       "  <tbody>\n",
       "    <tr>\n",
       "      <th>789</th>\n",
       "      <td>1</td>\n",
       "    </tr>\n",
       "    <tr>\n",
       "      <th>791</th>\n",
       "      <td>1</td>\n",
       "    </tr>\n",
       "    <tr>\n",
       "      <th>795</th>\n",
       "      <td>2</td>\n",
       "    </tr>\n",
       "    <tr>\n",
       "      <th>796</th>\n",
       "      <td>1</td>\n",
       "    </tr>\n",
       "    <tr>\n",
       "      <th>800</th>\n",
       "      <td>1</td>\n",
       "    </tr>\n",
       "    <tr>\n",
       "      <th>...</th>\n",
       "      <td>...</td>\n",
       "    </tr>\n",
       "    <tr>\n",
       "      <th>2571</th>\n",
       "      <td>1</td>\n",
       "    </tr>\n",
       "    <tr>\n",
       "      <th>2577</th>\n",
       "      <td>1</td>\n",
       "    </tr>\n",
       "    <tr>\n",
       "      <th>2588</th>\n",
       "      <td>1</td>\n",
       "    </tr>\n",
       "    <tr>\n",
       "      <th>2621</th>\n",
       "      <td>15</td>\n",
       "    </tr>\n",
       "    <tr>\n",
       "      <th>2723</th>\n",
       "      <td>1</td>\n",
       "    </tr>\n",
       "  </tbody>\n",
       "</table>\n",
       "<p>1521 rows × 1 columns</p>\n",
       "</div>"
      ],
      "text/plain": [
       "              id\n",
       "black_rating    \n",
       "789            1\n",
       "791            1\n",
       "795            2\n",
       "796            1\n",
       "800            1\n",
       "...           ..\n",
       "2571           1\n",
       "2577           1\n",
       "2588           1\n",
       "2621          15\n",
       "2723           1\n",
       "\n",
       "[1521 rows x 1 columns]"
      ]
     },
     "execution_count": 59,
     "metadata": {},
     "output_type": "execute_result"
    }
   ],
   "source": [
    "blackdf = df.groupby('black_rating')[['id']].count()\n",
    "blackdf"
   ]
  },
  {
   "cell_type": "code",
   "execution_count": 63,
   "id": "43707a35-0f34-4704-9f79-8cbe0cc5d28c",
   "metadata": {},
   "outputs": [
    {
     "data": {
      "image/png": "[encoded data removed]",
      "text/plain": [
       "<Figure size 360x360 with 1 Axes>"
      ]
     },
     "metadata": {
      "needs_background": "light"
     },
     "output_type": "display_data"
    },
    {
     "data": {
      "image/png": "[encoded data removed]",
      "text/plain": [
       "<Figure size 360x360 with 1 Axes>"
      ]
     },
     "metadata": {
      "needs_background": "light"
     },
     "output_type": "display_data"
    }
   ],
   "source": [
    "line1 = blackdf.plot.line(color = 'black',figsize=(5,5))\n",
    "line2 = whitedf.plot.line(color = 'red',figsize=(5,5))"
   ]
  },
  {
   "cell_type": "markdown",
   "id": "18f1beab-6de2-4bfc-b92f-c4c1025abfe6",
   "metadata": {},
   "source": [
    "All the players are seemingly equally rated."
   ]
  },
  {
   "cell_type": "markdown",
   "id": "fd6fadfe-7933-4bd6-988e-a2098623f260",
   "metadata": {},
   "source": [
    "# Section 3: Inferences and Conclusion"
   ]
  },
  {
   "cell_type": "markdown",
   "id": "7e5a4e5a-3cbf-4032-a817-a21af1c7f526",
   "metadata": {},
   "source": [
    "In this analysis I used the games.csv file from the kaggle Datasets. Following are my conclusions about it:\n",
    "\n",
    "    1. Van't Krujis Opening and Sicilian Defense are the most played opening in chess.\n",
    "    2. Most of the games concluded when a player resigned.\n",
    "    3. More than half of the matches ended within first 65 moves of the game.\n",
    "    4. White Side seems to more victorious in the game.\n",
    "    5. All rated matches were between likely equally rated players."
   ]
  },
  {
   "cell_type": "markdown",
   "id": "3216f2f3-14b2-48fe-a232-6c579f5400f3",
   "metadata": {},
   "source": [
    "## References\n",
    "The Pandas DataFrame: https://www.shanelynn.ie/using-pandas-dataframe-creating-editing-viewing-data-in-python/#:~:text=To%20delete%20rows%20and%20columns,the%20need%20for%20'axis\n",
    "\n",
    "Seaborn gallery: https://seaborn.pydata.org/examples/index.html\n",
    "\n",
    "Matplotlib gallery: https://matplotlib.org/3.1.1/gallery/index.html\n",
    "\n",
    "https://www.geeksforgeeks.org/change-figure-size-in-pandas-python/\n",
    "\n"
   ]
  }
 ],
 "metadata": {
  "kernelspec": {
   "display_name": "Python 3",
   "language": "python",
   "name": "python3"
  },
  "language_info": {
   "codemirror_mode": {
    "name": "ipython",
    "version": 3
   },
   "file_extension": ".py",
   "mimetype": "text/x-python",
   "name": "python",
   "nbconvert_exporter": "python",
   "pygments_lexer": "ipython3",
   "version": "3.8.8"
  }
 },
 "nbformat": 4,
 "nbformat_minor": 5
}
